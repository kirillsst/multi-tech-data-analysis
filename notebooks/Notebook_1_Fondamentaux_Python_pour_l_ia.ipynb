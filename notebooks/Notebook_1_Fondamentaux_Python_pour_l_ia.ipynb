{
  "cells": [
    {
      "cell_type": "markdown",
      "metadata": {
        "id": "VQzdTEd20OQQ"
      },
      "source": []
    },
    {
      "cell_type": "markdown",
      "metadata": {
        "id": "qD7z9hrS0QHi"
      },
      "source": [
        "# Notebook 1 - Fondamentaux Python pour l'IA\n",
        "# Analyse de données météorologiques en temps réel\n",
        "\n",
        "🎯 Objectifs pédagogiques\n",
        "\n",
        "Maîtriser les structures de données Python essentielles\n",
        "Consommer des APIs REST avec requests\n",
        "Manipuler des données JSON et CSV\n",
        "Créer des visualisations basiques\n",
        "Appliquer des statistiques descriptives\n",
        "\n",
        "🌤️ Contexte du projet\n",
        "\n",
        "Vous travaillez pour une startup AgTech qui développe des solutions d'agriculture intelligente. Votre mission : analyser les données météorologiques de plusieurs villes européennes pour optimiser les recommandations de plantation."
      ]
    },
    {
      "cell_type": "markdown",
      "metadata": {
        "id": "InXafSSW05HB"
      },
      "source": [
        "Partie 1 : Connexion aux APIs météo\n",
        "\n",
        "🔧 Installation des bibliothèques\n",
        "\n",
        "\n",
        " À exécuter dans votre terminal ou cellule\n",
        "# pip install requests pandas matplotlib seaborn numpy"
      ]
    },
    {
      "cell_type": "code",
      "execution_count": 125,
      "metadata": {
        "id": "VRX6x9eF08hL"
      },
      "outputs": [],
      "source": [
        "#📥 Import et configuration\n",
        "import requests as r\n",
        "import pandas as pd\n",
        "import numpy as np\n",
        "import matplotlib.pyplot as plt\n",
        "import seaborn as sns\n",
        "from datetime import datetime, timedelta\n",
        "from dotenv import load_dotenv\n",
        "import os\n",
        "import json"
      ]
    },
    {
      "cell_type": "markdown",
      "metadata": {
        "id": "cclqgdw01aGL"
      },
      "source": [
        "🌍 API OpenWeatherMap (gratuite)\n",
        "\n",
        "Inscription : Créez un compte sur openweathermap.org\n",
        "\n",
        "\n",
        "Clé API : Récupérez votre clé gratuite (40 000 appels/mois)\n",
        "\n"
      ]
    },
    {
      "cell_type": "code",
      "execution_count": 126,
      "metadata": {
        "id": "90O22MX50sjB"
      },
      "outputs": [
        {
          "data": {
            "text/plain": [
              "{'coord': {'lon': 3.8772, 'lat': 43.6109},\n",
              " 'weather': [{'id': 800,\n",
              "   'main': 'Clear',\n",
              "   'description': 'ciel dégagé',\n",
              "   'icon': '01d'}],\n",
              " 'base': 'stations',\n",
              " 'main': {'temp': 25.28,\n",
              "  'feels_like': 25.01,\n",
              "  'temp_min': 24.71,\n",
              "  'temp_max': 25.28,\n",
              "  'pressure': 1014,\n",
              "  'humidity': 44,\n",
              "  'sea_level': 1014,\n",
              "  'grnd_level': 1006},\n",
              " 'visibility': 10000,\n",
              " 'wind': {'speed': 9.77, 'deg': 330},\n",
              " 'clouds': {'all': 0},\n",
              " 'dt': 1753694724,\n",
              " 'sys': {'type': 2,\n",
              "  'id': 2038454,\n",
              "  'country': 'FR',\n",
              "  'sunrise': 1753676962,\n",
              "  'sunset': 1753729942},\n",
              " 'timezone': 7200,\n",
              " 'id': 2992166,\n",
              " 'name': 'Montpellier',\n",
              " 'cod': 200}"
            ]
          },
          "execution_count": 126,
          "metadata": {},
          "output_type": "execute_result"
        }
      ],
      "source": [
        "# ### 💡 Première requête guidée\n",
        "load_dotenv() # charge les clés de .env dans les variables d'environnement\n",
        "API_KEY = os.getenv(\"OPENWEATHER_API_KEY\")\n",
        "BASE_URL = \"https://api.openweathermap.org/data/2.5\"\n",
        "\n",
        "def get_weather_data(city, api_key):\n",
        "    \"\"\"\n",
        "    Récupère les données météo actuelles pour une ville\n",
        "\n",
        "    Étapes à compléter :\n",
        "    1. Construire l'URL avec les paramètres\n",
        "    2. Faire l'appel API avec requests.get()\n",
        "    3. Vérifier le status code\n",
        "    4. Retourner les données JSON\n",
        "    \"\"\"\n",
        "    # URL : current weather data\n",
        "    url = f\"{BASE_URL}/weather\"\n",
        "\n",
        "    # Paramètres à compléter\n",
        "    params = {\n",
        "        'q': city,\n",
        "        'appid': api_key,\n",
        "        'units': 'metric',  # Celsius\n",
        "        'lang': 'fr'\n",
        "    }\n",
        "\n",
        "    try:\n",
        "        response = r.get(url, params=params)\n",
        "        response.raise_for_status() # Vérifie si status code est 200, sinon lève une exception\n",
        "\n",
        "        data = response.json()\n",
        "        return data\n",
        "    except r.HTTPError as http_err:\n",
        "        print(f\"Http Error: {http_err}\\nStatus code: {r.status_codes}\")\n",
        "    except r.Exception.ConnectionError as cn_error:\n",
        "        print(f\"Error: {cn_error}\")\n",
        "    return None \n",
        "    # Votre code ici pour l'appel API\n",
        "    # Gérez les erreurs HTTP !\n",
        "get_weather_data(\"Montpellier\",API_KEY)\n",
        " # Remplacez par votre implémentation"
      ]
    },
    {
      "cell_type": "code",
      "execution_count": 127,
      "metadata": {
        "id": "Dsb-QIjE0slp"
      },
      "outputs": [
        {
          "data": {
            "text/plain": [
              "{'coord': {'lon': 4.8897, 'lat': 52.374},\n",
              " 'weather': [{'id': 802,\n",
              "   'main': 'Clouds',\n",
              "   'description': 'partiellement nuageux',\n",
              "   'icon': '03d'}],\n",
              " 'base': 'stations',\n",
              " 'main': {'temp': 19.6,\n",
              "  'feels_like': 19.39,\n",
              "  'temp_min': 17.7,\n",
              "  'temp_max': 21.1,\n",
              "  'pressure': 1017,\n",
              "  'humidity': 68,\n",
              "  'sea_level': 1017,\n",
              "  'grnd_level': 1016},\n",
              " 'visibility': 10000,\n",
              " 'wind': {'speed': 5.14, 'deg': 300},\n",
              " 'clouds': {'all': 40},\n",
              " 'dt': 1753694782,\n",
              " 'sys': {'type': 2,\n",
              "  'id': 2046553,\n",
              "  'country': 'NL',\n",
              "  'sunrise': 1753674875,\n",
              "  'sunset': 1753731544},\n",
              " 'timezone': 7200,\n",
              " 'id': 2759794,\n",
              " 'name': 'Amsterdam',\n",
              " 'cod': 200}"
            ]
          },
          "execution_count": 127,
          "metadata": {},
          "output_type": "execute_result"
        }
      ],
      "source": [
        "# Configuration API\n",
        "API_KEY = os.getenv(\"OPENWEATHER_API_KEY\")  # Remplacez par votre vraie clé\n",
        "BASE_URL = \"http://api.openweathermap.org/data/2.5\"\n",
        "\n",
        "# Villes à analyser (agriculture européenne)\n",
        "CITIES = [\"Paris\", \"Berlin\", \"Madrid\", \"Rome\", \"Amsterdam\", \"Vienna\"]\n",
        "\n",
        "get_weather_data(CITIES[4], API_KEY)"
      ]
    },
    {
      "cell_type": "markdown",
      "metadata": {
        "id": "XN6RPmCr2qDp"
      },
      "source": [
        "**Questions de débogage :**\n",
        "- Que faire si l'API retourne une erreur 401 ?\n",
        "- Comment gérer une ville introuvable ?\n",
        "\n",
        "---"
      ]
    },
    {
      "cell_type": "markdown",
      "metadata": {},
      "source": [
        "1. Erreur 401 Unauthorized — API-clé:\n",
        "    absent, incorrect, révoquée par website\n",
        "2. Erreur 404 Not Found — Ville :\n",
        "    Introuvable, mal orthographiée ou non disponible dans l’API.\n",
        "\n",
        "**Comment gérer?**\n",
        "    \n",
        "     try:\n",
        "        response = r.get(url, params=params)\n",
        "        response.raise_for_status() # Vérifie si status code est 200, sinon lève une exception\n",
        "\n",
        "        data = response.json()\n",
        "        return data\n",
        "    except r.HTTPError as http_err:\n",
        "        print(f\"Http Error: {http_err}\")\n",
        "    return None"
      ]
    },
    {
      "cell_type": "markdown",
      "metadata": {
        "id": "KL0MS3RJ263K"
      },
      "source": [
        "## Partie 2 : API complémentaire - Données historiques\n",
        "\n",
        "### 📊 API Visual Crossing Weather (gratuite)\n",
        "Alternative avec 1000 appels/jour gratuits : [visualcrossing.com](https://www.visualcrossing.com/weather-api)"
      ]
    },
    {
      "cell_type": "code",
      "execution_count": null,
      "metadata": {
        "id": "6OK5bXQy0srW"
      },
      "outputs": [
        {
          "name": "stdout",
          "output_type": "stream",
          "text": [
            "Http Error: 400 Client Error:  for url: https://weather.visualcrossing.com/VisualCrossingWebServices/rest/services/timeline/Rome/2024-07-01/2024-07-30?key=2F3DAZ65J2NWCX3Y688J76677&include=days&elements=datetime%2Ctemp%2Chumidity%2Cprecip%2Cwindspeed\n"
          ]
        }
      ],
      "source": [
        "# Configuration Visual Crossing\n",
        "load_dotenv() # charge les clés de .env dans les variables d'environnement\n",
        "VC_API_KEY = os.getenv(\"VISUAL_CROSSING_API\")\n",
        "VC_BASE_URL = \"https://weather.visualcrossing.com/VisualCrossingWebServices/rest/services/timeline\"\n",
        "\n",
        "def get_historical_weather(city, start_date, end_date, api_key):\n",
        "    \"\"\"\n",
        "    Récupère les données météo historiques\n",
        "\n",
        "    Défis à résoudre :\n",
        "    1. Construire l'URL avec les dates\n",
        "    2. Gérer la pagination si nécessaire\n",
        "    3. Extraire les données pertinentes du JSON complexe\n",
        "    4. Convertir en DataFrame pandas\n",
        "    \"\"\"\n",
        "\n",
        "    url = f\"{VC_BASE_URL}/{city}/{start_date}/{end_date}\"\n",
        "\n",
        "    params = {\n",
        "        'key': api_key,\n",
        "        'include': 'days',\n",
        "        'elements': 'datetime,temp,humidity,precip,windspeed'\n",
        "    }\n",
        "\n",
        "    # Votre implémentation ici\n",
        "    # Pensez à la gestion d'erreurs !\n",
        "    try:\n",
        "        response = r.get(url, params=params)\n",
        "        response.raise_for_status() # Vérifie si status code est 200, sinon lève une exception\n",
        "\n",
        "        data = response.json()\n",
        "        return data\n",
        "    except r.HTTPError as http_err:\n",
        "        print(f\"Http Error: {http_err}\")\n",
        "    except r.exceptions.ConnectionError as cn_error:\n",
        "        print(f\"Error: {cn_error}\")\n",
        "    return None \n",
        "\n",
        "all_df_data = []\n",
        "\n",
        "for city in CITIES:\n",
        "    data = get_historical_weather(city, \"2024-07-01\", \"2024-07-30\", VC_API_KEY)\n",
        "    if data:\n",
        "        df_data_days = data['days']\n",
        "        df_data = pd.DataFrame(df_data_days)[[\"datetime\", \"temp\", \"humidity\", \"precip\", \"windspeed\"]]\n",
        "        df_data.rename(columns={\n",
        "            \"datetime\": \"date\",\n",
        "            \"temp\": \"temperature\",\n",
        "            \"humidity\": \"humidite\",\n",
        "            \"precip\": \"precipitation\",\n",
        "            \"windspeed\": \"vent\"\n",
        "        }, inplace=True)\n",
        "\n",
        "        df_data.insert(1, \"ville\", city)\n",
        "        all_df_data.append(df_data)\n",
        "\n",
        "df_final = pd.concat(all_df_data, ignore_index=False)\n",
        "df_final = df_final.sort_values(by=[\"date\", \"ville\"]).reset_index(drop=True)\n",
        "\n",
        "# df_final #Je ne l’ai pas affiché parce qu’il y avait trop de code HTML, et ce n’était pas lisible."
      ]
    },
    {
      "cell_type": "markdown",
      "metadata": {
        "id": "WiSgjF2V3JOv"
      },
      "source": [
        "### 🎯 Mission pratique\n",
        "Récupérez les données des 30 derniers jours pour toutes vos villes et créez un DataFrame consolidé.\n",
        "\n",
        "**Structure attendue :**\n",
        "```\n",
        "| date       | ville     | temperature | humidite | precipitation | vent |\n",
        "|------------|-----------|-------------|----------|---------------|------|\n",
        "| 2024-01-01 | Paris     | 12.5        | 75       | 2.3          | 15   |\n",
        "```\n",
        "\n",
        "---\n"
      ]
    },
    {
      "cell_type": "code",
      "execution_count": 129,
      "metadata": {
        "id": "V0DOb0363VJU"
      },
      "outputs": [
        {
          "name": "stdout",
          "output_type": "stream",
          "text": [
            "{'Paris': (48.8588897, 2.3200410217200766), 'Berlin': (52.5170365, 13.3888599), 'Madrid': (40.4167047, -3.7035825), 'Rome': (41.8933203, 12.4829321), 'Amsterdam': (52.3727598, 4.8936041), 'Vienna': (48.2083537, 16.3725042)}\n"
          ]
        }
      ],
      "source": [
        "### 🗺️ Obtenir les coordonnées\n",
        "def get_city_coordinates(city, api_key):\n",
        "    \"\"\"\n",
        "    Utilise l'API Geocoding d'OpenWeatherMap\n",
        "    URL : http://api.openweathermap.org/geo/1.0/direct\n",
        "\n",
        "    Récupérez lat/lon pour chaque ville\n",
        "    \"\"\"\n",
        "    BASE_URL = \"http://api.openweathermap.org/geo/1.0/direct\"\n",
        "    params = {\n",
        "        'q': city,\n",
        "        'limit': 1,\n",
        "        'appid': api_key\n",
        "    }\n",
        "\n",
        "    try:\n",
        "        response = r.get(BASE_URL, params=params)\n",
        "        response.raise_for_status() # Vérifie si status code est 200, sinon lève une exception\n",
        "        data = response.json()\n",
        "\n",
        "        if data:\n",
        "            lat = data[0]['lat']\n",
        "            lon = data[0]['lon']\n",
        "            return lat, lon\n",
        "        else:\n",
        "            print(f\"Aucune coordonnée trouvée pour: {city}\")\n",
        "            return None, None\n",
        "    except Exception as i:\n",
        "        print(f\"Erreur lors de la récupération des coordonnées: {i}\")\n",
        "        return None, None\n",
        "\n",
        "all_coords = {}\n",
        "\n",
        "for city in CITIES:\n",
        "    lat, lon = get_city_coordinates(city, API_KEY)\n",
        "    if lat is not None and lon is not None:\n",
        "        all_coords[city] = (lat, lon)\n",
        "    else:\n",
        "         print(f\"Impossible d'obtenir les coordonnées pour la ville: {city}\")\n",
        "print(all_coords)"
      ]
    },
    {
      "cell_type": "code",
      "execution_count": null,
      "metadata": {
        "id": "iR8RHaqM0suN"
      },
      "outputs": [],
      "source": [
        "# ## Partie 3 : API supplémentaire - Qualité de l'air\n",
        "\n",
        "# ### 🌬️ API OpenWeatherMap Air Pollution\n",
        "def get_air_quality(lat, lon, api_key):\n",
        "    \"\"\"\n",
        "    Récupère les données de qualité de l'air\n",
        "\n",
        "    URL : http://api.openweathermap.org/data/2.5/air_pollution\n",
        "\n",
        "    Étapes :\n",
        "    1. Utiliser les coordonnées lat/lon des villes\n",
        "    2. Récupérer l'indice AQI et les composants (PM2.5, PM10, O3, etc.)\n",
        "    3. Joindre ces données avec vos données météo\n",
        "    \"\"\"\n",
        "\n",
        "    BASE_URL = \"http://api.openweathermap.org/data/2.5/air_pollution\"\n",
        "    params = {\n",
        "        'lat': lat,\n",
        "        'lon': lon,\n",
        "        'appid': api_key\n",
        "    }\n",
        "\n",
        "    try:\n",
        "        response = r.get(BASE_URL, params=params)\n",
        "        response.raise_for_status() # Vérifie si status code est 200, sinon lève une exception\n",
        "        data = response.json()\n",
        "\n",
        "        #Extraction des données importantes\n",
        "        aqi = data['list'][0]['main']['aqi']\n",
        "        components = data['list'][0]['components']\n",
        "\n",
        "        return {\n",
        "            \"aqi\": aqi,\n",
        "            **components\n",
        "        }\n",
        "\n",
        "    except r.HTTPError as http_err:\n",
        "        print(f\"Http Error: {http_err}\")\n",
        "    except r.exceptions.ConnectionError as cn_error:\n",
        "        print(f\"Error: {cn_error}\")\n",
        "    return None \n",
        "\n",
        "air_qual_data = []\n",
        "\n",
        "def get_air_quality2(CITIES, df_final, api_key):\n",
        "    for city in CITIES:\n",
        "        lat, lon = get_city_coordinates(city, api_key)\n",
        "        if lat is not None and lon is not None:\n",
        "            qual = get_air_quality(lat, lon, api_key)\n",
        "            if qual:\n",
        "                # Ajouter la ville et la qualité de l'air à la liste\n",
        "                qual['ville'] = city\n",
        "                air_qual_data.append(qual)\n",
        "\n",
        "                air_qual_df = pd.DataFrame(air_qual_data)\n",
        "\n",
        "                if df_final is not None:\n",
        "                    # Nous combinons avec les données météorologiques de la colonne « ville ».\n",
        "                    combined_df = pd.merge(df_final, air_qual_df, on='ville', how='left')\n",
        "                    return combined_df\n",
        "\n",
        "            return air_qual_df\n",
        "df_with_air_qual = get_air_quality2(CITIES, df_final, API_KEY)\n",
        "# df_with_air_qual #Je ne l’ai pas affiché parce qu’il y avait trop de code, et ce n’était pas lisible.\n",
        "\n",
        "    "
      ]
    },
    {
      "cell_type": "markdown",
      "metadata": {
        "id": "v02lzUOv3kp6"
      },
      "source": [
        "\n",
        "## Partie 4 : Analyse et visualisation\n",
        "\n",
        "### 📈 Analyses à réaliser\n",
        "\n",
        "1. **Comparaison inter-villes**\n",
        "   - Températures moyennes par ville\n",
        "   - Variabilité climatique (écart-type)\n",
        "   - Corrélations température/humidité\n",
        "\n",
        "2. **Tendances temporelles**\n",
        "   - Évolution sur 30 jours\n",
        "   - Identification des patterns\n",
        "\n",
        "3. **Qualité de l'air vs météo**\n",
        "   - Impact de la pluie sur la pollution\n",
        "   - Corrélations vent/qualité de l'air"
      ]
    },
    {
      "cell_type": "code",
      "execution_count": 131,
      "metadata": {
        "colab": {
          "base_uri": "https://localhost:8080/",
          "height": 51
        },
        "id": "IQb6JSIp3VSD",
        "outputId": "542a1e6a-381e-40c4-a65a-c21522e3b42d"
      },
      "outputs": [
        {
          "data": {
            "text/plain": [
              "<Figure size 1500x800 with 0 Axes>"
            ]
          },
          "execution_count": 131,
          "metadata": {},
          "output_type": "execute_result"
        },
        {
          "data": {
            "text/plain": [
              "<Figure size 1500x800 with 0 Axes>"
            ]
          },
          "metadata": {},
          "output_type": "display_data"
        }
      ],
      "source": [
        "### 💡 Visualisations guidées\n",
        "\n",
        "# 1. Heatmap des températures par ville et jour\n",
        "plt.figure(figsize=(15, 8))\n",
        "\n",
        "# Créez un pivot table : villes en colonnes, dates en lignes\n",
        "# Utilisez seaborn.heatmap()\n",
        "\n",
        "# 2. Boxplot comparatif des précipitations\n",
        "# Utilisez seaborn.boxplot()\n",
        "\n",
        "# 3. Scatter plot qualité air vs température\n",
        "# Ajoutez une regression line avec seaborn.regplot()\n",
        "\n"
      ]
    },
    {
      "cell_type": "markdown",
      "metadata": {
        "id": "U3OFGeR437l0"
      },
      "source": [
        "## Partie 5 : API bonus - Données agricoles\n",
        "\n",
        "### �� API AgroMonitoring (gratuite)"
      ]
    },
    {
      "cell_type": "code",
      "execution_count": 132,
      "metadata": {
        "id": "9PZMkaLO3zAK"
      },
      "outputs": [],
      "source": [
        "# API satellite pour l'agriculture\n",
        "AGRO_API_KEY = \"VOTRE_CLE_AGROMONITORING\"\n",
        "\n",
        "def get_soil_data(polygon_coordinates, api_key):\n",
        "    \"\"\"\n",
        "    Récupère des données de sol via satellite\n",
        "    URL : http://api.agromonitoring.com/agro/1.0/\n",
        "\n",
        "    Données disponibles :\n",
        "    - Indices de végétation (NDVI)\n",
        "    - Humidité du sol\n",
        "    - Température de surface\n",
        "    \"\"\"\n",
        "    pass\n"
      ]
    },
    {
      "cell_type": "markdown",
      "metadata": {
        "id": "9U_DNqp24DD6"
      },
      "source": [
        "\n",
        "**Défi avancé :** Créez des recommandations de plantation basées sur :\n",
        "- Données météo des 30 derniers jours\n",
        "- Prévisions à 5 jours\n",
        "- Qualité de l'air\n",
        "- Indices de végétation satellite\n",
        "\n"
      ]
    },
    {
      "cell_type": "markdown",
      "metadata": {
        "id": "W15DybdE4Ksu"
      },
      "source": [
        "## 🏆 Livrables attendus\n",
        "\n",
        "### 📊 Dashboard météo\n",
        "Créez un tableau de bord contenant :\n",
        "1. **Aperçu temps réel** des 6 villes\n",
        "2. **Graphiques de tendances** sur 30 jours\n",
        "3. **Alertes qualité de l'air** (AQI > 100)\n",
        "4. **Recommandations agricoles** par ville"
      ]
    },
    {
      "cell_type": "code",
      "execution_count": 133,
      "metadata": {
        "id": "46lA8m084ULP"
      },
      "outputs": [],
      "source": [
        "### 📱 Format de présentation\n",
        "\n",
        "def generate_weather_report(city_data):\n",
        "    \"\"\"\n",
        "    Génère un rapport automatisé\n",
        "\n",
        "    Format :\n",
        "    - Résumé exécutif (3 lignes)\n",
        "    - Métriques clés (tableaux)\n",
        "    - Graphiques (4 visualisations)\n",
        "    - Recommandations (bullet points)\n",
        "    \"\"\"\n",
        "    pass"
      ]
    },
    {
      "cell_type": "markdown",
      "metadata": {
        "id": "eqxVMuuh4Qsq"
      },
      "source": [
        "---\n",
        "\n",
        "## 🎓 Critères d'évaluation\n",
        "\n",
        "- [ ] **APIs fonctionnelles** : Toutes les connexions API marchent\n",
        "- [ ] **Gestion d'erreurs** : Code robuste avec try/except\n",
        "- [ ] **Qualité des données** : Validation et nettoyage\n",
        "- [ ] **Visualisations** : Graphiques informatifs et esthétiques\n",
        "- [ ] **Insights business** : Recommandations basées sur les données\n",
        "\n",
        "### 🔗 Préparation au Notebook 2\n",
        "Le prochain notebook utilisera une vraie base de données PostgreSQL hébergée pour analyser des données de ventes e-commerce, en croisant avec vos données météo pour des analyses géolocalisées.\n",
        "\n",
        "### 📚 APIs alternatives (si quotas dépassés)\n",
        "- **WeatherAPI** : 1M appels/mois gratuits\n",
        "- **AccuWeather** : 50 appels/jour gratuits  \n",
        "- **Climatiq** : Données climat et carbone\n",
        "- **NASA APIs** : Données satellite gratuites"
      ]
    }
  ],
  "metadata": {
    "colab": {
      "provenance": []
    },
    "kernelspec": {
      "display_name": ".venv",
      "language": "python",
      "name": "python3"
    },
    "language_info": {
      "codemirror_mode": {
        "name": "ipython",
        "version": 3
      },
      "file_extension": ".py",
      "mimetype": "text/x-python",
      "name": "python",
      "nbconvert_exporter": "python",
      "pygments_lexer": "ipython3",
      "version": "3.12.3"
    }
  },
  "nbformat": 4,
  "nbformat_minor": 0
}
