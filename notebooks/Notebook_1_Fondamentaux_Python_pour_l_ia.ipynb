{
  "cells": [
    {
      "cell_type": "markdown",
      "metadata": {
        "id": "VQzdTEd20OQQ"
      },
      "source": []
    },
    {
      "cell_type": "markdown",
      "metadata": {
        "id": "qD7z9hrS0QHi"
      },
      "source": [
        "# Notebook 1 - Fondamentaux Python pour l'IA\n",
        "# Analyse de données météorologiques en temps réel\n",
        "\n",
        "🎯 Objectifs pédagogiques\n",
        "\n",
        "Maîtriser les structures de données Python essentielles\n",
        "Consommer des APIs REST avec requests\n",
        "Manipuler des données JSON et CSV\n",
        "Créer des visualisations basiques\n",
        "Appliquer des statistiques descriptives\n",
        "\n",
        "🌤️ Contexte du projet\n",
        "\n",
        "Vous travaillez pour une startup AgTech qui développe des solutions d'agriculture intelligente. Votre mission : analyser les données météorologiques de plusieurs villes européennes pour optimiser les recommandations de plantation."
      ]
    },
    {
      "cell_type": "markdown",
      "metadata": {
        "id": "InXafSSW05HB"
      },
      "source": [
        "Partie 1 : Connexion aux APIs météo\n",
        "\n",
        "🔧 Installation des bibliothèques\n",
        "\n",
        "\n",
        " À exécuter dans votre terminal ou cellule\n",
        "# pip install requests pandas matplotlib seaborn numpy"
      ]
    },
    {
      "cell_type": "code",
      "execution_count": 155,
      "metadata": {
        "id": "VRX6x9eF08hL"
      },
      "outputs": [],
      "source": [
        "#📥 Import et configuration\n",
        "import requests as r\n",
        "import pandas as pd\n",
        "import numpy as np\n",
        "import matplotlib.pyplot as plt\n",
        "import seaborn as sns\n",
        "from datetime import datetime, timedelta\n",
        "from dotenv import load_dotenv\n",
        "import os\n",
        "import json"
      ]
    },
    {
      "cell_type": "markdown",
      "metadata": {
        "id": "cclqgdw01aGL"
      },
      "source": [
        "🌍 API OpenWeatherMap (gratuite)\n",
        "\n",
        "Inscription : Créez un compte sur openweathermap.org\n",
        "\n",
        "\n",
        "Clé API : Récupérez votre clé gratuite (40 000 appels/mois)\n",
        "\n"
      ]
    },
    {
      "cell_type": "code",
      "execution_count": 156,
      "metadata": {
        "id": "90O22MX50sjB"
      },
      "outputs": [
        {
          "data": {
            "text/plain": [
              "{'coord': {'lon': 3.8772, 'lat': 43.6109},\n",
              " 'weather': [{'id': 800,\n",
              "   'main': 'Clear',\n",
              "   'description': 'ciel dégagé',\n",
              "   'icon': '01d'}],\n",
              " 'base': 'stations',\n",
              " 'main': {'temp': 24.16,\n",
              "  'feels_like': 23.78,\n",
              "  'temp_min': 24.16,\n",
              "  'temp_max': 25.71,\n",
              "  'pressure': 1014,\n",
              "  'humidity': 44,\n",
              "  'sea_level': 1014,\n",
              "  'grnd_level': 1005},\n",
              " 'visibility': 10000,\n",
              " 'wind': {'speed': 8.23, 'deg': 340},\n",
              " 'clouds': {'all': 0},\n",
              " 'dt': 1753697297,\n",
              " 'sys': {'type': 2,\n",
              "  'id': 2038454,\n",
              "  'country': 'FR',\n",
              "  'sunrise': 1753676962,\n",
              "  'sunset': 1753729942},\n",
              " 'timezone': 7200,\n",
              " 'id': 2992166,\n",
              " 'name': 'Montpellier',\n",
              " 'cod': 200}"
            ]
          },
          "execution_count": 156,
          "metadata": {},
          "output_type": "execute_result"
        }
      ],
      "source": [
        "# ### 💡 Première requête guidée\n",
        "load_dotenv() # charge les clés de .env dans les variables d'environnement\n",
        "API_KEY = os.getenv(\"OPENWEATHER_API_KEY\")\n",
        "BASE_URL = \"https://api.openweathermap.org/data/2.5\"\n",
        "\n",
        "def get_weather_data(city, api_key):\n",
        "    \"\"\"\n",
        "    Récupère les données météo actuelles pour une ville\n",
        "\n",
        "    Étapes à compléter :\n",
        "    1. Construire l'URL avec les paramètres\n",
        "    2. Faire l'appel API avec requests.get()\n",
        "    3. Vérifier le status code\n",
        "    4. Retourner les données JSON\n",
        "    \"\"\"\n",
        "    # URL : current weather data\n",
        "    url = f\"{BASE_URL}/weather\"\n",
        "\n",
        "    # Paramètres à compléter\n",
        "    params = {\n",
        "        'q': city,\n",
        "        'appid': api_key,\n",
        "        'units': 'metric',  # Celsius\n",
        "        'lang': 'fr'\n",
        "    }\n",
        "\n",
        "    try:\n",
        "        response = r.get(url, params=params)\n",
        "        response.raise_for_status() # Vérifie si status code est 200, sinon lève une exception\n",
        "\n",
        "        data = response.json()\n",
        "        return data\n",
        "    except r.HTTPError as http_err:\n",
        "        print(f\"Http Error: {http_err}\\nStatus code: {r.status_codes}\")\n",
        "    except r.Exception.ConnectionError as cn_error:\n",
        "        print(f\"Error: {cn_error}\")\n",
        "    return None \n",
        "    # Votre code ici pour l'appel API\n",
        "    # Gérez les erreurs HTTP !\n",
        "get_weather_data(\"Montpellier\",API_KEY)\n",
        " # Remplacez par votre implémentation"
      ]
    },
    {
      "cell_type": "code",
      "execution_count": 157,
      "metadata": {
        "id": "Dsb-QIjE0slp"
      },
      "outputs": [
        {
          "data": {
            "text/plain": [
              "{'coord': {'lon': 4.8897, 'lat': 52.374},\n",
              " 'weather': [{'id': 520,\n",
              "   'main': 'Rain',\n",
              "   'description': 'petites averses',\n",
              "   'icon': '09d'}],\n",
              " 'base': 'stations',\n",
              " 'main': {'temp': 18,\n",
              "  'feels_like': 17.61,\n",
              "  'temp_min': 17.14,\n",
              "  'temp_max': 20,\n",
              "  'pressure': 1017,\n",
              "  'humidity': 67,\n",
              "  'sea_level': 1017,\n",
              "  'grnd_level': 1017},\n",
              " 'visibility': 10000,\n",
              " 'wind': {'speed': 7.72, 'deg': 330},\n",
              " 'rain': {'1h': 0.41},\n",
              " 'clouds': {'all': 75},\n",
              " 'dt': 1753697179,\n",
              " 'sys': {'type': 2,\n",
              "  'id': 2012552,\n",
              "  'country': 'NL',\n",
              "  'sunrise': 1753674875,\n",
              "  'sunset': 1753731544},\n",
              " 'timezone': 7200,\n",
              " 'id': 2759794,\n",
              " 'name': 'Amsterdam',\n",
              " 'cod': 200}"
            ]
          },
          "execution_count": 157,
          "metadata": {},
          "output_type": "execute_result"
        }
      ],
      "source": [
        "# Configuration API\n",
        "API_KEY = os.getenv(\"OPENWEATHER_API_KEY\")  # Remplacez par votre vraie clé\n",
        "BASE_URL = \"http://api.openweathermap.org/data/2.5\"\n",
        "\n",
        "# Villes à analyser (agriculture européenne)\n",
        "CITIES = [\"Paris\", \"Berlin\", \"Madrid\", \"Rome\", \"Amsterdam\", \"Vienna\"]\n",
        "\n",
        "get_weather_data(CITIES[4], API_KEY)"
      ]
    },
    {
      "cell_type": "markdown",
      "metadata": {
        "id": "XN6RPmCr2qDp"
      },
      "source": [
        "**Questions de débogage :**\n",
        "- Que faire si l'API retourne une erreur 401 ?\n",
        "- Comment gérer une ville introuvable ?\n",
        "\n",
        "---"
      ]
    },
    {
      "cell_type": "markdown",
      "metadata": {},
      "source": [
        "1. Erreur 401 Unauthorized — API-clé:\n",
        "    absent, incorrect, révoquée par website\n",
        "2. Erreur 404 Not Found — Ville :\n",
        "    Introuvable, mal orthographiée ou non disponible dans l’API.\n",
        "\n",
        "**Comment gérer?**\n",
        "    \n",
        "     try:\n",
        "        response = r.get(url, params=params)\n",
        "        response.raise_for_status() # Vérifie si status code est 200, sinon lève une exception\n",
        "\n",
        "        data = response.json()\n",
        "        return data\n",
        "    except r.HTTPError as http_err:\n",
        "        print(f\"Http Error: {http_err}\")\n",
        "    return None"
      ]
    },
    {
      "cell_type": "markdown",
      "metadata": {
        "id": "KL0MS3RJ263K"
      },
      "source": [
        "## Partie 2 : API complémentaire - Données historiques\n",
        "\n",
        "### 📊 API Visual Crossing Weather (gratuite)\n",
        "Alternative avec 1000 appels/jour gratuits : [visualcrossing.com](https://www.visualcrossing.com/weather-api)"
      ]
    },
    {
      "cell_type": "code",
      "execution_count": null,
      "metadata": {
        "id": "6OK5bXQy0srW"
      },
      "outputs": [
        {
          "name": "stdout",
          "output_type": "stream",
          "text": [
            "Http Error: 400 Client Error:  for url: https://weather.visualcrossing.com/VisualCrossingWebServices/rest/services/timeline/Rome/2024-07-01/2024-07-30?key=JYJNPLJS5F7GPQQJUSGK2AH6D&include=days&elements=datetime%2Ctemp%2Chumidity%2Cprecip%2Cwindspeed&unitGroup=metric\n"
          ]
        },
        {
          "data": {
            "text/html": [
              "<div>\n",
              "<style scoped>\n",
              "    .dataframe tbody tr th:only-of-type {\n",
              "        vertical-align: middle;\n",
              "    }\n",
              "\n",
              "    .dataframe tbody tr th {\n",
              "        vertical-align: top;\n",
              "    }\n",
              "\n",
              "    .dataframe thead th {\n",
              "        text-align: right;\n",
              "    }\n",
              "</style>\n",
              "<table border=\"1\" class=\"dataframe\">\n",
              "  <thead>\n",
              "    <tr style=\"text-align: right;\">\n",
              "      <th></th>\n",
              "      <th>date</th>\n",
              "      <th>ville</th>\n",
              "      <th>temperature</th>\n",
              "      <th>humidite</th>\n",
              "      <th>precipitation</th>\n",
              "      <th>vent</th>\n",
              "    </tr>\n",
              "  </thead>\n",
              "  <tbody>\n",
              "    <tr>\n",
              "      <th>0</th>\n",
              "      <td>2024-07-01</td>\n",
              "      <td>Amsterdam</td>\n",
              "      <td>15.8</td>\n",
              "      <td>75.4</td>\n",
              "      <td>0.203</td>\n",
              "      <td>24.6</td>\n",
              "    </tr>\n",
              "    <tr>\n",
              "      <th>1</th>\n",
              "      <td>2024-07-01</td>\n",
              "      <td>Berlin</td>\n",
              "      <td>17.5</td>\n",
              "      <td>84.5</td>\n",
              "      <td>5.597</td>\n",
              "      <td>16.5</td>\n",
              "    </tr>\n",
              "    <tr>\n",
              "      <th>2</th>\n",
              "      <td>2024-07-01</td>\n",
              "      <td>Madrid</td>\n",
              "      <td>23.3</td>\n",
              "      <td>49.1</td>\n",
              "      <td>0.000</td>\n",
              "      <td>17.9</td>\n",
              "    </tr>\n",
              "    <tr>\n",
              "      <th>3</th>\n",
              "      <td>2024-07-01</td>\n",
              "      <td>Paris</td>\n",
              "      <td>18.1</td>\n",
              "      <td>66.3</td>\n",
              "      <td>0.162</td>\n",
              "      <td>16.4</td>\n",
              "    </tr>\n",
              "    <tr>\n",
              "      <th>4</th>\n",
              "      <td>2024-07-01</td>\n",
              "      <td>Vienna</td>\n",
              "      <td>22.7</td>\n",
              "      <td>63.8</td>\n",
              "      <td>0.102</td>\n",
              "      <td>25.2</td>\n",
              "    </tr>\n",
              "    <tr>\n",
              "      <th>...</th>\n",
              "      <td>...</td>\n",
              "      <td>...</td>\n",
              "      <td>...</td>\n",
              "      <td>...</td>\n",
              "      <td>...</td>\n",
              "      <td>...</td>\n",
              "    </tr>\n",
              "    <tr>\n",
              "      <th>145</th>\n",
              "      <td>2024-07-30</td>\n",
              "      <td>Amsterdam</td>\n",
              "      <td>22.6</td>\n",
              "      <td>65.8</td>\n",
              "      <td>0.000</td>\n",
              "      <td>13.5</td>\n",
              "    </tr>\n",
              "    <tr>\n",
              "      <th>146</th>\n",
              "      <td>2024-07-30</td>\n",
              "      <td>Berlin</td>\n",
              "      <td>20.1</td>\n",
              "      <td>62.4</td>\n",
              "      <td>0.000</td>\n",
              "      <td>10.2</td>\n",
              "    </tr>\n",
              "    <tr>\n",
              "      <th>147</th>\n",
              "      <td>2024-07-30</td>\n",
              "      <td>Madrid</td>\n",
              "      <td>30.8</td>\n",
              "      <td>32.3</td>\n",
              "      <td>0.261</td>\n",
              "      <td>23.0</td>\n",
              "    </tr>\n",
              "    <tr>\n",
              "      <th>148</th>\n",
              "      <td>2024-07-30</td>\n",
              "      <td>Paris</td>\n",
              "      <td>28.1</td>\n",
              "      <td>58.5</td>\n",
              "      <td>0.000</td>\n",
              "      <td>9.2</td>\n",
              "    </tr>\n",
              "    <tr>\n",
              "      <th>149</th>\n",
              "      <td>2024-07-30</td>\n",
              "      <td>Vienna</td>\n",
              "      <td>23.6</td>\n",
              "      <td>37.4</td>\n",
              "      <td>0.000</td>\n",
              "      <td>10.8</td>\n",
              "    </tr>\n",
              "  </tbody>\n",
              "</table>\n",
              "<p>150 rows × 6 columns</p>\n",
              "</div>"
            ],
            "text/plain": [
              "           date      ville  temperature  humidite  precipitation  vent\n",
              "0    2024-07-01  Amsterdam         15.8      75.4          0.203  24.6\n",
              "1    2024-07-01     Berlin         17.5      84.5          5.597  16.5\n",
              "2    2024-07-01     Madrid         23.3      49.1          0.000  17.9\n",
              "3    2024-07-01      Paris         18.1      66.3          0.162  16.4\n",
              "4    2024-07-01     Vienna         22.7      63.8          0.102  25.2\n",
              "..          ...        ...          ...       ...            ...   ...\n",
              "145  2024-07-30  Amsterdam         22.6      65.8          0.000  13.5\n",
              "146  2024-07-30     Berlin         20.1      62.4          0.000  10.2\n",
              "147  2024-07-30     Madrid         30.8      32.3          0.261  23.0\n",
              "148  2024-07-30      Paris         28.1      58.5          0.000   9.2\n",
              "149  2024-07-30     Vienna         23.6      37.4          0.000  10.8\n",
              "\n",
              "[150 rows x 6 columns]"
            ]
          },
          "execution_count": 158,
          "metadata": {},
          "output_type": "execute_result"
        }
      ],
      "source": [
        "# Configuration Visual Crossing\n",
        "load_dotenv() # charge les clés de .env dans les variables d'environnement\n",
        "VC_API_KEY = os.getenv(\"VISUAL_CROSSING_APIS\")\n",
        "VC_BASE_URL = \"https://weather.visualcrossing.com/VisualCrossingWebServices/rest/services/timeline\"\n",
        "\n",
        "def get_historical_weather(city, start_date, end_date, api_key):\n",
        "    \"\"\"\n",
        "    Récupère les données météo historiques\n",
        "\n",
        "    Défis à résoudre :\n",
        "    1. Construire l'URL avec les dates\n",
        "    2. Gérer la pagination si nécessaire\n",
        "    3. Extraire les données pertinentes du JSON complexe\n",
        "    4. Convertir en DataFrame pandas\n",
        "    \"\"\"\n",
        "\n",
        "    url = f\"{VC_BASE_URL}/{city}/{start_date}/{end_date}\"\n",
        "\n",
        "    params = {\n",
        "        'key': api_key,\n",
        "        'include': 'days',\n",
        "        'elements': 'datetime,temp,humidity,precip,windspeed',\n",
        "        'unitGroup': 'metric' #Celsius\n",
        "    }\n",
        "\n",
        "    # Votre implémentation ici\n",
        "    # Pensez à la gestion d'erreurs !\n",
        "    try:\n",
        "        response = r.get(url, params=params)\n",
        "        response.raise_for_status() # Vérifie si status code est 200, sinon lève une exception\n",
        "\n",
        "        data = response.json()\n",
        "        return data\n",
        "    except r.HTTPError as http_err:\n",
        "        print(f\"Http Error: {http_err}\")\n",
        "    except r.exceptions.ConnectionError as cn_error:\n",
        "        print(f\"Error: {cn_error}\")\n",
        "    return None \n",
        "\n",
        "all_df_data = []\n",
        "\n",
        "for city in CITIES:\n",
        "    data = get_historical_weather(city, \"2024-07-01\", \"2024-07-30\", VC_API_KEY)\n",
        "    if data:\n",
        "        df_data_days = data['days']\n",
        "        df_data = pd.DataFrame(df_data_days)[[\"datetime\", \"temp\", \"humidity\", \"precip\", \"windspeed\"]]\n",
        "        df_data.rename(columns={\n",
        "            \"datetime\": \"date\",\n",
        "            \"temp\": \"temperature\",\n",
        "            \"humidity\": \"humidite\",\n",
        "            \"precip\": \"precipitation\",\n",
        "            \"windspeed\": \"vent\"\n",
        "        }, inplace=True)\n",
        "\n",
        "        df_data.insert(1, \"ville\", city)\n",
        "        all_df_data.append(df_data)\n",
        "\n",
        "df_final = pd.concat(all_df_data, ignore_index=False)\n",
        "df_final = df_final.sort_values(by=[\"date\", \"ville\"]).reset_index(drop=True)\n",
        "\n",
        "# df_final #Je ne l’ai pas affiché parce qu’il y avait trop de code HTML, et ce n’était pas lisible."
      ]
    },
    {
      "cell_type": "markdown",
      "metadata": {
        "id": "WiSgjF2V3JOv"
      },
      "source": [
        "### 🎯 Mission pratique\n",
        "Récupérez les données des 30 derniers jours pour toutes vos villes et créez un DataFrame consolidé.\n",
        "\n",
        "**Structure attendue :**\n",
        "```\n",
        "| date       | ville     | temperature | humidite | precipitation | vent |\n",
        "|------------|-----------|-------------|----------|---------------|------|\n",
        "| 2024-01-01 | Paris     | 12.5        | 75       | 2.3          | 15   |\n",
        "```\n",
        "\n",
        "---\n"
      ]
    },
    {
      "cell_type": "code",
      "execution_count": 159,
      "metadata": {
        "id": "V0DOb0363VJU"
      },
      "outputs": [
        {
          "name": "stdout",
          "output_type": "stream",
          "text": [
            "{'Paris': (48.8588897, 2.3200410217200766), 'Berlin': (52.5170365, 13.3888599), 'Madrid': (40.4167047, -3.7035825), 'Rome': (41.8933203, 12.4829321), 'Amsterdam': (52.3727598, 4.8936041), 'Vienna': (48.2083537, 16.3725042)}\n"
          ]
        }
      ],
      "source": [
        "### 🗺️ Obtenir les coordonnées\n",
        "def get_city_coordinates(city, api_key):\n",
        "    \"\"\"\n",
        "    Utilise l'API Geocoding d'OpenWeatherMap\n",
        "    URL : http://api.openweathermap.org/geo/1.0/direct\n",
        "\n",
        "    Récupérez lat/lon pour chaque ville\n",
        "    \"\"\"\n",
        "    BASE_URL = \"http://api.openweathermap.org/geo/1.0/direct\"\n",
        "    params = {\n",
        "        'q': city,\n",
        "        'limit': 1,\n",
        "        'appid': api_key\n",
        "    }\n",
        "\n",
        "    try:\n",
        "        response = r.get(BASE_URL, params=params)\n",
        "        response.raise_for_status() # Vérifie si status code est 200, sinon lève une exception\n",
        "        data = response.json()\n",
        "\n",
        "        if data:\n",
        "            lat = data[0]['lat']\n",
        "            lon = data[0]['lon']\n",
        "            return lat, lon\n",
        "        else:\n",
        "            print(f\"Aucune coordonnée trouvée pour: {city}\")\n",
        "            return None, None\n",
        "    except Exception as i:\n",
        "        print(f\"Erreur lors de la récupération des coordonnées: {i}\")\n",
        "        return None, None\n",
        "\n",
        "all_coords = {}\n",
        "\n",
        "for city in CITIES:\n",
        "    lat, lon = get_city_coordinates(city, API_KEY)\n",
        "    if lat is not None and lon is not None:\n",
        "        all_coords[city] = (lat, lon)\n",
        "    else:\n",
        "         print(f\"Impossible d'obtenir les coordonnées pour la ville: {city}\")\n",
        "print(all_coords)"
      ]
    },
    {
      "cell_type": "code",
      "execution_count": null,
      "metadata": {
        "id": "iR8RHaqM0suN"
      },
      "outputs": [],
      "source": [
        "# ## Partie 3 : API supplémentaire - Qualité de l'air\n",
        "\n",
        "# ### 🌬️ API OpenWeatherMap Air Pollution\n",
        "def get_air_quality(lat, lon, api_key):\n",
        "    \"\"\"\n",
        "    Récupère les données de qualité de l'air\n",
        "\n",
        "    URL : http://api.openweathermap.org/data/2.5/air_pollution\n",
        "\n",
        "    Étapes :\n",
        "    1. Utiliser les coordonnées lat/lon des villes\n",
        "    2. Récupérer l'indice AQI et les composants (PM2.5, PM10, O3, etc.)\n",
        "    3. Joindre ces données avec vos données météo\n",
        "    \"\"\"\n",
        "\n",
        "    BASE_URL = \"http://api.openweathermap.org/data/2.5/air_pollution\"\n",
        "    params = {\n",
        "        'lat': lat,\n",
        "        'lon': lon,\n",
        "        'appid': api_key\n",
        "    }\n",
        "\n",
        "    try:\n",
        "        response = r.get(BASE_URL, params=params)\n",
        "        response.raise_for_status() # Vérifie si status code est 200, sinon lève une exception\n",
        "        data = response.json()\n",
        "\n",
        "        #Extraction des données importantes\n",
        "        aqi = data['list'][0]['main']['aqi']\n",
        "        components = data['list'][0]['components']\n",
        "\n",
        "        return {\n",
        "            \"aqi\": aqi,\n",
        "            **components\n",
        "        }\n",
        "\n",
        "    except r.HTTPError as http_err:\n",
        "        print(f\"Http Error: {http_err}\")\n",
        "    except r.exceptions.ConnectionError as cn_error:\n",
        "        print(f\"Error: {cn_error}\")\n",
        "    return None \n",
        "\n",
        "air_qual_data = []\n",
        "\n",
        "def get_air_quality2(CITIES, df_final, api_key):\n",
        "    for city in CITIES:\n",
        "        lat, lon = get_city_coordinates(city, api_key)\n",
        "        if lat is not None and lon is not None:\n",
        "            qual = get_air_quality(lat, lon, api_key)\n",
        "            if qual:\n",
        "                # Ajouter la ville et la qualité de l'air à la liste\n",
        "                qual['ville'] = city\n",
        "                air_qual_data.append(qual)\n",
        "\n",
        "                air_qual_df = pd.DataFrame(air_qual_data)\n",
        "\n",
        "                if df_final is not None:\n",
        "                    # Nous combinons avec les données météorologiques de la colonne « ville ».\n",
        "                    combined_df = pd.merge(df_final, air_qual_df, on='ville', how='left')\n",
        "                    return combined_df\n",
        "\n",
        "            return air_qual_df\n",
        "df_with_air_qual = get_air_quality2(CITIES, df_final, API_KEY)\n",
        "# df_with_air_qual #Je ne l’ai pas affiché parce qu’il y avait trop de code, et ce n’était pas lisible."
      ]
    },
    {
      "cell_type": "markdown",
      "metadata": {
        "id": "v02lzUOv3kp6"
      },
      "source": [
        "\n",
        "## Partie 4 : Analyse et visualisation\n",
        "\n",
        "### 📈 Analyses à réaliser\n",
        "\n",
        "1. **Comparaison inter-villes**\n",
        "   - Températures moyennes par ville\n",
        "   - Variabilité climatique (écart-type)\n",
        "   - Corrélations température/humidité\n",
        "\n",
        "2. **Tendances temporelles**\n",
        "   - Évolution sur 30 jours\n",
        "   - Identification des patterns\n",
        "\n",
        "3. **Qualité de l'air vs météo**\n",
        "   - Impact de la pluie sur la pollution\n",
        "   - Corrélations vent/qualité de l'air"
      ]
    },
    {
      "cell_type": "code",
      "execution_count": 165,
      "metadata": {
        "colab": {
          "base_uri": "https://localhost:8080/",
          "height": 51
        },
        "id": "IQb6JSIp3VSD",
        "outputId": "542a1e6a-381e-40c4-a65a-c21522e3b42d"
      },
      "outputs": [
        {
          "data": {
            "image/png": "[encoded data removed]",
            "text/plain": [
              "<Figure size 1500x800 with 2 Axes>"
            ]
          },
          "metadata": {},
          "output_type": "display_data"
        },
        {
          "data": {
            "image/png": "[encoded data removed]",
            "text/plain": [
              "<Figure size 1000x600 with 1 Axes>"
            ]
          },
          "metadata": {},
          "output_type": "display_data"
        }
      ],
      "source": [
        "### 💡 Visualisations guidées\n",
        "\n",
        "# 1. Heatmap des températures par ville et jour\n",
        "plt.figure(figsize=(15, 8))\n",
        "\n",
        "# Créez un pivot table : villes en colonnes, dates en lignes\n",
        "# Utilisez seaborn.heatmap()\n",
        "pivot_temp = df_final.pivot_table(index='date', columns='ville', values='temperature')\n",
        "sns.heatmap(pivot_temp, cmap='coolwarm', linewidths=0.5)\n",
        "plt.title(\"Températures par ville\")\n",
        "plt.xlabel(\"ville\")\n",
        "plt.ylabel(\"date\")\n",
        "plt.tight_layout()\n",
        "plt.show()\n",
        "# 2. Boxplot comparatif des précipitations\n",
        "# Utilisez seaborn.boxplot()\n",
        "plt.figure(figsize=(10, 6))\n",
        "sns.boxplot(data=df_final, x='ville', y='precipitation')\n",
        "plt.title(\"Précipitations par ville\")\n",
        "plt.xlabel(\"Ville\")\n",
        "plt.ylabel(\"Précipitations (mm)\")\n",
        "plt.xticks(rotation=45)\n",
        "plt.tight_layout()\n",
        "plt.show()\n",
        "\n",
        "# 3. Scatter plot qualité air vs température\n",
        "# Ajoutez une regression line avec seaborn.regplot()\n",
        "# sns.regplot()\n"
      ]
    },
    {
      "cell_type": "markdown",
      "metadata": {
        "id": "U3OFGeR437l0"
      },
      "source": [
        "## Partie 5 : API bonus - Données agricoles\n",
        "\n",
        "### �� API AgroMonitoring (gratuite)"
      ]
    },
    {
      "cell_type": "code",
      "execution_count": 162,
      "metadata": {
        "id": "9PZMkaLO3zAK"
      },
      "outputs": [],
      "source": [
        "# API satellite pour l'agriculture\n",
        "AGRO_API_KEY = \"VOTRE_CLE_AGROMONITORING\"\n",
        "\n",
        "def get_soil_data(polygon_coordinates, api_key):\n",
        "    \"\"\"\n",
        "    Récupère des données de sol via satellite\n",
        "    URL : http://api.agromonitoring.com/agro/1.0/\n",
        "\n",
        "    Données disponibles :\n",
        "    - Indices de végétation (NDVI)\n",
        "    - Humidité du sol\n",
        "    - Température de surface\n",
        "    \"\"\"\n",
        "    pass\n"
      ]
    },
    {
      "cell_type": "markdown",
      "metadata": {
        "id": "9U_DNqp24DD6"
      },
      "source": [
        "\n",
        "**Défi avancé :** Créez des recommandations de plantation basées sur :\n",
        "- Données météo des 30 derniers jours\n",
        "- Prévisions à 5 jours\n",
        "- Qualité de l'air\n",
        "- Indices de végétation satellite\n",
        "\n"
      ]
    },
    {
      "cell_type": "markdown",
      "metadata": {
        "id": "W15DybdE4Ksu"
      },
      "source": [
        "## 🏆 Livrables attendus\n",
        "\n",
        "### 📊 Dashboard météo\n",
        "Créez un tableau de bord contenant :\n",
        "1. **Aperçu temps réel** des 6 villes\n",
        "2. **Graphiques de tendances** sur 30 jours\n",
        "3. **Alertes qualité de l'air** (AQI > 100)\n",
        "4. **Recommandations agricoles** par ville"
      ]
    },
    {
      "cell_type": "code",
      "execution_count": 163,
      "metadata": {
        "id": "46lA8m084ULP"
      },
      "outputs": [],
      "source": [
        "### 📱 Format de présentation\n",
        "\n",
        "def generate_weather_report(city_data):\n",
        "    \"\"\"\n",
        "    Génère un rapport automatisé\n",
        "\n",
        "    Format :\n",
        "    - Résumé exécutif (3 lignes)\n",
        "    - Métriques clés (tableaux)\n",
        "    - Graphiques (4 visualisations)\n",
        "    - Recommandations (bullet points)\n",
        "    \"\"\"\n",
        "    pass"
      ]
    },
    {
      "cell_type": "markdown",
      "metadata": {
        "id": "eqxVMuuh4Qsq"
      },
      "source": [
        "---\n",
        "\n",
        "## 🎓 Critères d'évaluation\n",
        "\n",
        "- [ ] **APIs fonctionnelles** : Toutes les connexions API marchent\n",
        "- [ ] **Gestion d'erreurs** : Code robuste avec try/except\n",
        "- [ ] **Qualité des données** : Validation et nettoyage\n",
        "- [ ] **Visualisations** : Graphiques informatifs et esthétiques\n",
        "- [ ] **Insights business** : Recommandations basées sur les données\n",
        "\n",
        "### 🔗 Préparation au Notebook 2\n",
        "Le prochain notebook utilisera une vraie base de données PostgreSQL hébergée pour analyser des données de ventes e-commerce, en croisant avec vos données météo pour des analyses géolocalisées.\n",
        "\n",
        "### 📚 APIs alternatives (si quotas dépassés)\n",
        "- **WeatherAPI** : 1M appels/mois gratuits\n",
        "- **AccuWeather** : 50 appels/jour gratuits  \n",
        "- **Climatiq** : Données climat et carbone\n",
        "- **NASA APIs** : Données satellite gratuites"
      ]
    }
  ],
  "metadata": {
    "colab": {
      "provenance": []
    },
    "kernelspec": {
      "display_name": ".venv",
      "language": "python",
      "name": "python3"
    },
    "language_info": {
      "codemirror_mode": {
        "name": "ipython",
        "version": 3
      },
      "file_extension": ".py",
      "mimetype": "text/x-python",
      "name": "python",
      "nbconvert_exporter": "python",
      "pygments_lexer": "ipython3",
      "version": "3.12.3"
    }
  },
  "nbformat": 4,
  "nbformat_minor": 0
}
