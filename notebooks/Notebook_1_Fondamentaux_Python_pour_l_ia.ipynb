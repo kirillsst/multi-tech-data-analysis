{
  "cells": [
    {
      "cell_type": "markdown",
      "metadata": {
        "id": "VQzdTEd20OQQ"
      },
      "source": []
    },
    {
      "cell_type": "markdown",
      "metadata": {
        "id": "qD7z9hrS0QHi"
      },
      "source": [
        "# Notebook 1 - Fondamentaux Python pour l'IA\n",
        "# Analyse de données météorologiques en temps réel\n",
        "\n",
        "🎯 Objectifs pédagogiques\n",
        "\n",
        "Maîtriser les structures de données Python essentielles\n",
        "Consommer des APIs REST avec requests\n",
        "Manipuler des données JSON et CSV\n",
        "Créer des visualisations basiques\n",
        "Appliquer des statistiques descriptives\n",
        "\n",
        "🌤️ Contexte du projet\n",
        "\n",
        "Vous travaillez pour une startup AgTech qui développe des solutions d'agriculture intelligente. Votre mission : analyser les données météorologiques de plusieurs villes européennes pour optimiser les recommandations de plantation."
      ]
    },
    {
      "cell_type": "markdown",
      "metadata": {
        "id": "InXafSSW05HB"
      },
      "source": [
        "Partie 1 : Connexion aux APIs météo\n",
        "\n",
        "🔧 Installation des bibliothèques\n",
        "\n",
        "\n",
        " À exécuter dans votre terminal ou cellule\n",
        "# pip install requests pandas matplotlib seaborn numpy"
      ]
    },
    {
      "cell_type": "code",
      "execution_count": 4,
      "metadata": {
        "id": "VRX6x9eF08hL"
      },
      "outputs": [],
      "source": [
        "#📥 Import et configuration\n",
        "import requests\n",
        "import pandas as pd\n",
        "import numpy as np\n",
        "import matplotlib.pyplot as plt\n",
        "import seaborn as sns\n",
        "from datetime import datetime, timedelta\n",
        "from dotenv import load_dotenv\n",
        "import os\n",
        "import json"
      ]
    },
    {
      "cell_type": "markdown",
      "metadata": {
        "id": "cclqgdw01aGL"
      },
      "source": [
        "🌍 API OpenWeatherMap (gratuite)\n",
        "\n",
        "Inscription : Créez un compte sur openweathermap.org\n",
        "\n",
        "\n",
        "Clé API : Récupérez votre clé gratuite (40 000 appels/mois)\n",
        "\n"
      ]
    },
    {
      "cell_type": "code",
      "execution_count": null,
      "metadata": {
        "id": "90O22MX50sjB"
      },
      "outputs": [],
      "source": [
        "### 💡 Première requête guidée\n",
        "\n",
        "def get_weather_data(city, api_key):\n",
        "    \"\"\"\n",
        "    Récupère les données météo actuelles pour une ville\n",
        "\n",
        "    Étapes à compléter :\n",
        "    1. Construire l'URL avec les paramètres\n",
        "    2. Faire l'appel API avec requests.get()\n",
        "    3. Vérifier le status code\n",
        "    4. Retourner les données JSON\n",
        "    \"\"\"\n",
        "    # URL : current weather data\n",
        "    url = f\"{BASE_URL}/weather\"\n",
        "\n",
        "    # Paramètres à compléter\n",
        "    params = {\n",
        "        'q': city,\n",
        "        'appid': api_key,\n",
        "        'units': 'metric',  # Celsius\n",
        "        'lang': 'fr'\n",
        "    }\n",
        "\n",
        "    # Votre code ici pour l'appel API\n",
        "    # Gérez les erreurs HTTP !\n",
        "\n",
        "    pass  # Remplacez par votre implémentation"
      ]
    },
    {
      "cell_type": "code",
      "execution_count": 6,
      "metadata": {
        "id": "Dsb-QIjE0slp"
      },
      "outputs": [],
      "source": [
        "# Configuration API\n",
        "API_KEY = \"VOTRE_CLE_API\"  # Remplacez par votre vraie clé\n",
        "BASE_URL = \"http://api.openweathermap.org/data/2.5\"\n",
        "\n",
        "# Villes à analyser (agriculture européenne)\n",
        "CITIES = [\"Paris\", \"Berlin\", \"Madrid\", \"Rome\", \"Amsterdam\", \"Vienna\"]\n",
        "\n",
        "\n",
        "\n"
      ]
    },
    {
      "cell_type": "markdown",
      "metadata": {
        "id": "jUpfp5TW2mY_"
      },
      "source": []
    },
    {
      "cell_type": "markdown",
      "metadata": {
        "id": "XN6RPmCr2qDp"
      },
      "source": [
        "**Questions de débogage :**\n",
        "- Que faire si l'API retourne une erreur 401 ?\n",
        "- Comment gérer une ville introuvable ?\n",
        "\n",
        "---"
      ]
    },
    {
      "cell_type": "markdown",
      "metadata": {
        "id": "KL0MS3RJ263K"
      },
      "source": [
        "## Partie 2 : API complémentaire - Données historiques\n",
        "\n",
        "### 📊 API Visual Crossing Weather (gratuite)\n",
        "Alternative avec 1000 appels/jour gratuits : [visualcrossing.com](https://www.visualcrossing.com/weather-api)"
      ]
    },
    {
      "cell_type": "code",
      "execution_count": 7,
      "metadata": {
        "id": "6OK5bXQy0srW"
      },
      "outputs": [],
      "source": [
        "# Configuration Visual Crossing\n",
        "VC_API_KEY = \"VOTRE_CLE_VISUAL_CROSSING\"\n",
        "VC_BASE_URL = \"https://weather.visualcrossing.com/VisualCrossingWebServices/rest/services/timeline\"\n",
        "\n",
        "def get_historical_weather(city, start_date, end_date, api_key):\n",
        "    \"\"\"\n",
        "    Récupère les données météo historiques\n",
        "\n",
        "    Défis à résoudre :\n",
        "    1. Construire l'URL avec les dates\n",
        "    2. Gérer la pagination si nécessaire\n",
        "    3. Extraire les données pertinentes du JSON complexe\n",
        "    4. Convertir en DataFrame pandas\n",
        "    \"\"\"\n",
        "\n",
        "    url = f\"{VC_BASE_URL}/{city}/{start_date}/{end_date}\"\n",
        "\n",
        "    params = {\n",
        "        'key': api_key,\n",
        "        'include': 'days',\n",
        "        'elements': 'datetime,temp,humidity,precip,windspeed,pressure'\n",
        "    }\n",
        "\n",
        "    # Votre implémentation ici\n",
        "    # Pensez à la gestion d'erreurs !\n",
        "\n",
        "    pass"
      ]
    },
    {
      "cell_type": "markdown",
      "metadata": {
        "id": "WiSgjF2V3JOv"
      },
      "source": [
        "### 🎯 Mission pratique\n",
        "Récupérez les données des 30 derniers jours pour toutes vos villes et créez un DataFrame consolidé.\n",
        "\n",
        "**Structure attendue :**\n",
        "```\n",
        "| date       | ville     | temperature | humidite | precipitation | vent |\n",
        "|------------|-----------|-------------|----------|---------------|------|\n",
        "| 2024-01-01 | Paris     | 12.5        | 75       | 2.3          | 15   |\n",
        "```\n",
        "\n",
        "---\n"
      ]
    },
    {
      "cell_type": "code",
      "execution_count": 8,
      "metadata": {
        "id": "iR8RHaqM0suN"
      },
      "outputs": [],
      "source": [
        "## Partie 3 : API supplémentaire - Qualité de l'air\n",
        "\n",
        "### 🌬️ API OpenWeatherMap Air Pollution\n",
        "def get_air_quality(lat, lon, api_key):\n",
        "    \"\"\"\n",
        "    Récupère les données de qualité de l'air\n",
        "\n",
        "    URL : http://api.openweathermap.org/data/2.5/air_pollution\n",
        "\n",
        "    Étapes :\n",
        "    1. Utiliser les coordonnées lat/lon des villes\n",
        "    2. Récupérer l'indice AQI et les composants (PM2.5, PM10, O3, etc.)\n",
        "    3. Joindre ces données avec vos données météo\n",
        "    \"\"\"\n",
        "    pass"
      ]
    },
    {
      "cell_type": "code",
      "execution_count": 9,
      "metadata": {
        "id": "V0DOb0363VJU"
      },
      "outputs": [],
      "source": [
        "### 🗺️ Obtenir les coordonnées\n",
        "def get_city_coordinates(city, api_key):\n",
        "    \"\"\"\n",
        "    Utilise l'API Geocoding d'OpenWeatherMap\n",
        "    URL : http://api.openweathermap.org/geo/1.0/direct\n",
        "\n",
        "    Récupérez lat/lon pour chaque ville\n",
        "    \"\"\"\n",
        "    pass"
      ]
    },
    {
      "cell_type": "markdown",
      "metadata": {
        "id": "v02lzUOv3kp6"
      },
      "source": [
        "\n",
        "## Partie 4 : Analyse et visualisation\n",
        "\n",
        "### 📈 Analyses à réaliser\n",
        "\n",
        "1. **Comparaison inter-villes**\n",
        "   - Températures moyennes par ville\n",
        "   - Variabilité climatique (écart-type)\n",
        "   - Corrélations température/humidité\n",
        "\n",
        "2. **Tendances temporelles**\n",
        "   - Évolution sur 30 jours\n",
        "   - Identification des patterns\n",
        "\n",
        "3. **Qualité de l'air vs météo**\n",
        "   - Impact de la pluie sur la pollution\n",
        "   - Corrélations vent/qualité de l'air"
      ]
    },
    {
      "cell_type": "code",
      "execution_count": 11,
      "metadata": {
        "colab": {
          "base_uri": "https://localhost:8080/",
          "height": 51
        },
        "id": "IQb6JSIp3VSD",
        "outputId": "542a1e6a-381e-40c4-a65a-c21522e3b42d"
      },
      "outputs": [
        {
          "data": {
            "text/plain": [
              "<Figure size 1500x800 with 0 Axes>"
            ]
          },
          "execution_count": 11,
          "metadata": {},
          "output_type": "execute_result"
        },
        {
          "data": {
            "text/plain": [
              "<Figure size 1500x800 with 0 Axes>"
            ]
          },
          "metadata": {},
          "output_type": "display_data"
        }
      ],
      "source": [
        "### 💡 Visualisations guidées\n",
        "\n",
        "# 1. Heatmap des températures par ville et jour\n",
        "plt.figure(figsize=(15, 8))\n",
        "\n",
        "# Créez un pivot table : villes en colonnes, dates en lignes\n",
        "# Utilisez seaborn.heatmap()\n",
        "\n",
        "# 2. Boxplot comparatif des précipitations\n",
        "# Utilisez seaborn.boxplot()\n",
        "\n",
        "# 3. Scatter plot qualité air vs température\n",
        "# Ajoutez une regression line avec seaborn.regplot()\n",
        "\n"
      ]
    },
    {
      "cell_type": "markdown",
      "metadata": {
        "id": "U3OFGeR437l0"
      },
      "source": [
        "## Partie 5 : API bonus - Données agricoles\n",
        "\n",
        "### �� API AgroMonitoring (gratuite)"
      ]
    },
    {
      "cell_type": "code",
      "execution_count": null,
      "metadata": {
        "id": "9PZMkaLO3zAK"
      },
      "outputs": [],
      "source": [
        "# API satellite pour l'agriculture\n",
        "AGRO_API_KEY = \"VOTRE_CLE_AGROMONITORING\"\n",
        "\n",
        "def get_soil_data(polygon_coordinates, api_key):\n",
        "    \"\"\"\n",
        "    Récupère des données de sol via satellite\n",
        "    URL : http://api.agromonitoring.com/agro/1.0/\n",
        "\n",
        "    Données disponibles :\n",
        "    - Indices de végétation (NDVI)\n",
        "    - Humidité du sol\n",
        "    - Température de surface\n",
        "    \"\"\"\n",
        "    pass\n"
      ]
    },
    {
      "cell_type": "markdown",
      "metadata": {
        "id": "9U_DNqp24DD6"
      },
      "source": [
        "\n",
        "**Défi avancé :** Créez des recommandations de plantation basées sur :\n",
        "- Données météo des 30 derniers jours\n",
        "- Prévisions à 5 jours\n",
        "- Qualité de l'air\n",
        "- Indices de végétation satellite\n",
        "\n"
      ]
    },
    {
      "cell_type": "markdown",
      "metadata": {
        "id": "W15DybdE4Ksu"
      },
      "source": [
        "## 🏆 Livrables attendus\n",
        "\n",
        "### 📊 Dashboard météo\n",
        "Créez un tableau de bord contenant :\n",
        "1. **Aperçu temps réel** des 6 villes\n",
        "2. **Graphiques de tendances** sur 30 jours\n",
        "3. **Alertes qualité de l'air** (AQI > 100)\n",
        "4. **Recommandations agricoles** par ville"
      ]
    },
    {
      "cell_type": "code",
      "execution_count": 12,
      "metadata": {
        "id": "46lA8m084ULP"
      },
      "outputs": [],
      "source": [
        "### 📱 Format de présentation\n",
        "\n",
        "def generate_weather_report(city_data):\n",
        "    \"\"\"\n",
        "    Génère un rapport automatisé\n",
        "\n",
        "    Format :\n",
        "    - Résumé exécutif (3 lignes)\n",
        "    - Métriques clés (tableaux)\n",
        "    - Graphiques (4 visualisations)\n",
        "    - Recommandations (bullet points)\n",
        "    \"\"\"\n",
        "    pass"
      ]
    },
    {
      "cell_type": "markdown",
      "metadata": {
        "id": "eqxVMuuh4Qsq"
      },
      "source": [
        "---\n",
        "\n",
        "## 🎓 Critères d'évaluation\n",
        "\n",
        "- [ ] **APIs fonctionnelles** : Toutes les connexions API marchent\n",
        "- [ ] **Gestion d'erreurs** : Code robuste avec try/except\n",
        "- [ ] **Qualité des données** : Validation et nettoyage\n",
        "- [ ] **Visualisations** : Graphiques informatifs et esthétiques\n",
        "- [ ] **Insights business** : Recommandations basées sur les données\n",
        "\n",
        "### 🔗 Préparation au Notebook 2\n",
        "Le prochain notebook utilisera une vraie base de données PostgreSQL hébergée pour analyser des données de ventes e-commerce, en croisant avec vos données météo pour des analyses géolocalisées.\n",
        "\n",
        "### 📚 APIs alternatives (si quotas dépassés)\n",
        "- **WeatherAPI** : 1M appels/mois gratuits\n",
        "- **AccuWeather** : 50 appels/jour gratuits  \n",
        "- **Climatiq** : Données climat et carbone\n",
        "- **NASA APIs** : Données satellite gratuites"
      ]
    }
  ],
  "metadata": {
    "colab": {
      "provenance": []
    },
    "kernelspec": {
      "display_name": ".venv",
      "language": "python",
      "name": "python3"
    },
    "language_info": {
      "codemirror_mode": {
        "name": "ipython",
        "version": 3
      },
      "file_extension": ".py",
      "mimetype": "text/x-python",
      "name": "python",
      "nbconvert_exporter": "python",
      "pygments_lexer": "ipython3",
      "version": "3.12.3"
    }
  },
  "nbformat": 4,
  "nbformat_minor": 0
}
