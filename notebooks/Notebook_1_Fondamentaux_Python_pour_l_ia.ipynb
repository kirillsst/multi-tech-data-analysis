{
  "cells": [
    {
      "cell_type": "markdown",
      "metadata": {
        "id": "VQzdTEd20OQQ"
      },
      "source": []
    },
    {
      "cell_type": "markdown",
      "metadata": {
        "id": "qD7z9hrS0QHi"
      },
      "source": [
        "# Notebook 1 - Fondamentaux Python pour l'IA\n",
        "# Analyse de données météorologiques en temps réel\n",
        "\n",
        "🎯 Objectifs pédagogiques\n",
        "\n",
        "Maîtriser les structures de données Python essentielles\n",
        "Consommer des APIs REST avec requests\n",
        "Manipuler des données JSON et CSV\n",
        "Créer des visualisations basiques\n",
        "Appliquer des statistiques descriptives\n",
        "\n",
        "🌤️ Contexte du projet\n",
        "\n",
        "Vous travaillez pour une startup AgTech qui développe des solutions d'agriculture intelligente. Votre mission : analyser les données météorologiques de plusieurs villes européennes pour optimiser les recommandations de plantation."
      ]
    },
    {
      "cell_type": "markdown",
      "metadata": {
        "id": "InXafSSW05HB"
      },
      "source": [
        "Partie 1 : Connexion aux APIs météo\n",
        "\n",
        "🔧 Installation des bibliothèques\n",
        "\n",
        "\n",
        " À exécuter dans votre terminal ou cellule\n",
        "# pip install requests pandas matplotlib seaborn numpy"
      ]
    },
    {
      "cell_type": "code",
      "execution_count": 758,
      "metadata": {
        "id": "VRX6x9eF08hL"
      },
      "outputs": [],
      "source": [
        "#📥 Import et configuration\n",
        "import requests as r\n",
        "import pandas as pd\n",
        "import numpy as np\n",
        "import matplotlib.pyplot as plt\n",
        "import seaborn as sns\n",
        "from datetime import datetime, timedelta\n",
        "from dotenv import load_dotenv\n",
        "import os\n",
        "import json"
      ]
    },
    {
      "cell_type": "markdown",
      "metadata": {
        "id": "cclqgdw01aGL"
      },
      "source": [
        "🌍 API OpenWeatherMap (gratuite)\n",
        "\n",
        "Inscription : Créez un compte sur openweathermap.org\n",
        "\n",
        "\n",
        "Clé API : Récupérez votre clé gratuite (40 000 appels/mois)\n",
        "\n"
      ]
    },
    {
      "cell_type": "code",
      "execution_count": 759,
      "metadata": {
        "id": "90O22MX50sjB"
      },
      "outputs": [
        {
          "data": {
            "text/plain": [
              "{'coord': {'lon': 3.8772, 'lat': 43.6109},\n",
              " 'weather': [{'id': 800,\n",
              "   'main': 'Clear',\n",
              "   'description': 'ciel dégagé',\n",
              "   'icon': '01d'}],\n",
              " 'base': 'stations',\n",
              " 'main': {'temp': 28.05,\n",
              "  'feels_like': 27.85,\n",
              "  'temp_min': 28.05,\n",
              "  'temp_max': 28.71,\n",
              "  'pressure': 1013,\n",
              "  'humidity': 42,\n",
              "  'sea_level': 1013,\n",
              "  'grnd_level': 1004},\n",
              " 'visibility': 10000,\n",
              " 'wind': {'speed': 9.26, 'deg': 330},\n",
              " 'clouds': {'all': 0},\n",
              " 'dt': 1753454420,\n",
              " 'sys': {'type': 2,\n",
              "  'id': 2038454,\n",
              "  'country': 'FR',\n",
              "  'sunrise': 1753417576,\n",
              "  'sunset': 1753470927},\n",
              " 'timezone': 7200,\n",
              " 'id': 2992166,\n",
              " 'name': 'Montpellier',\n",
              " 'cod': 200}"
            ]
          },
          "execution_count": 759,
          "metadata": {},
          "output_type": "execute_result"
        }
      ],
      "source": [
        "### 💡 Première requête guidée\n",
        "load_dotenv() # charge les clés de .env dans les variables d'environnement\n",
        "API_KEY = os.getenv(\"OPENWEATHER_API_KEY\")\n",
        "BASE_URL = \"https://api.openweathermap.org/data/2.5\"\n",
        "\n",
        "def get_weather_data(city, api_key):\n",
        "    \"\"\"\n",
        "    Récupère les données météo actuelles pour une ville\n",
        "\n",
        "    Étapes à compléter :\n",
        "    1. Construire l'URL avec les paramètres\n",
        "    2. Faire l'appel API avec requests.get()\n",
        "    3. Vérifier le status code\n",
        "    4. Retourner les données JSON\n",
        "    \"\"\"\n",
        "    # URL : current weather data\n",
        "    url = f\"{BASE_URL}/weather\"\n",
        "\n",
        "    # Paramètres à compléter\n",
        "    params = {\n",
        "        'q': city,\n",
        "        'appid': api_key,\n",
        "        'units': 'metric',  # Celsius\n",
        "        'lang': 'fr'\n",
        "    }\n",
        "\n",
        "    try:\n",
        "        response = r.get(url, params=params)\n",
        "        response.raise_for_status() # Vérifie si status code est 200, sinon lève une exception\n",
        "\n",
        "        data = response.json()\n",
        "        return data\n",
        "    except r.HTTPError as http_err:\n",
        "        print(f\"Http Error: {http_err}\\nStatus code: {r.status_codes}\")\n",
        "    except r.Exception.ConnectionError as cn_error:\n",
        "        print(f\"Error: {cn_error}\")\n",
        "    return None \n",
        "    # Votre code ici pour l'appel API\n",
        "    # Gérez les erreurs HTTP !\n",
        "get_weather_data(\"Montpellier\",API_KEY)\n",
        " # Remplacez par votre implémentation"
      ]
    },
    {
      "cell_type": "code",
      "execution_count": 760,
      "metadata": {
        "id": "Dsb-QIjE0slp"
      },
      "outputs": [
        {
          "data": {
            "text/plain": [
              "{'coord': {'lon': 4.8897, 'lat': 52.374},\n",
              " 'weather': [{'id': 802,\n",
              "   'main': 'Clouds',\n",
              "   'description': 'partiellement nuageux',\n",
              "   'icon': '03d'}],\n",
              " 'base': 'stations',\n",
              " 'main': {'temp': 22.74,\n",
              "  'feels_like': 22.79,\n",
              "  'temp_min': 21.6,\n",
              "  'temp_max': 23.83,\n",
              "  'pressure': 1018,\n",
              "  'humidity': 66,\n",
              "  'sea_level': 1018,\n",
              "  'grnd_level': 1017},\n",
              " 'visibility': 10000,\n",
              " 'wind': {'speed': 3.09, 'deg': 310},\n",
              " 'clouds': {'all': 40},\n",
              " 'dt': 1753454402,\n",
              " 'sys': {'type': 2,\n",
              "  'id': 2046553,\n",
              "  'country': 'NL',\n",
              "  'sunrise': 1753415405,\n",
              "  'sunset': 1753472613},\n",
              " 'timezone': 7200,\n",
              " 'id': 2759794,\n",
              " 'name': 'Amsterdam',\n",
              " 'cod': 200}"
            ]
          },
          "execution_count": 760,
          "metadata": {},
          "output_type": "execute_result"
        }
      ],
      "source": [
        "# Configuration API\n",
        "API_KEY = os.getenv(\"OPENWEATHER_API_KEY\")  # Remplacez par votre vraie clé\n",
        "BASE_URL = \"http://api.openweathermap.org/data/2.5\"\n",
        "\n",
        "# Villes à analyser (agriculture européenne)\n",
        "CITIES = [\"Paris\", \"Berlin\", \"Madrid\", \"Rome\", \"Amsterdam\", \"Vienna\"]\n",
        "\n",
        "get_weather_data(CITIES[4], API_KEY)"
      ]
    },
    {
      "cell_type": "markdown",
      "metadata": {
        "id": "XN6RPmCr2qDp"
      },
      "source": [
        "**Questions de débogage :**\n",
        "- Que faire si l'API retourne une erreur 401 ?\n",
        "- Comment gérer une ville introuvable ?\n",
        "\n",
        "---"
      ]
    },
    {
      "cell_type": "markdown",
      "metadata": {},
      "source": [
        "1. Erreur 401 Unauthorized — API-clé:\n",
        "    absent, incorrect, révoquée par website\n",
        "2. Erreur 404 Not Found — Ville :\n",
        "    Introuvable, mal orthographiée ou non disponible dans l’API.\n",
        "\n",
        "**Comment gérer?**\n",
        "    \n",
        "     try:\n",
        "        response = r.get(url, params=params)\n",
        "        response.raise_for_status() # Vérifie si status code est 200, sinon lève une exception\n",
        "\n",
        "        data = response.json()\n",
        "        return data\n",
        "    except r.HTTPError as http_err:\n",
        "        print(f\"Http Error: {http_err}\")\n",
        "    return None"
      ]
    },
    {
      "cell_type": "markdown",
      "metadata": {
        "id": "KL0MS3RJ263K"
      },
      "source": [
        "## Partie 2 : API complémentaire - Données historiques\n",
        "\n",
        "### 📊 API Visual Crossing Weather (gratuite)\n",
        "Alternative avec 1000 appels/jour gratuits : [visualcrossing.com](https://www.visualcrossing.com/weather-api)"
      ]
    },
    {
      "cell_type": "code",
      "execution_count": null,
      "metadata": {
        "id": "6OK5bXQy0srW"
      },
      "outputs": [
        {
          "data": {
            "text/html": [
              "<div>\n",
              "<style scoped>\n",
              "    .dataframe tbody tr th:only-of-type {\n",
              "        vertical-align: middle;\n",
              "    }\n",
              "\n",
              "    .dataframe tbody tr th {\n",
              "        vertical-align: top;\n",
              "    }\n",
              "\n",
              "    .dataframe thead th {\n",
              "        text-align: right;\n",
              "    }\n",
              "</style>\n",
              "<table border=\"1\" class=\"dataframe\">\n",
              "  <thead>\n",
              "    <tr style=\"text-align: right;\">\n",
              "      <th></th>\n",
              "      <th>datetime</th>\n",
              "      <th>temp</th>\n",
              "      <th>humidity</th>\n",
              "      <th>precip</th>\n",
              "      <th>windspeed</th>\n",
              "      <th>pressure</th>\n",
              "    </tr>\n",
              "  </thead>\n",
              "  <tbody>\n",
              "    <tr>\n",
              "      <th>0</th>\n",
              "      <td>2023-11-20</td>\n",
              "      <td>59.3</td>\n",
              "      <td>66.2</td>\n",
              "      <td>0.000</td>\n",
              "      <td>18.5</td>\n",
              "      <td>1017.7</td>\n",
              "    </tr>\n",
              "    <tr>\n",
              "      <th>1</th>\n",
              "      <td>2023-11-21</td>\n",
              "      <td>57.3</td>\n",
              "      <td>49.8</td>\n",
              "      <td>0.000</td>\n",
              "      <td>20.3</td>\n",
              "      <td>1013.5</td>\n",
              "    </tr>\n",
              "    <tr>\n",
              "      <th>2</th>\n",
              "      <td>2023-11-22</td>\n",
              "      <td>54.5</td>\n",
              "      <td>42.4</td>\n",
              "      <td>0.000</td>\n",
              "      <td>25.5</td>\n",
              "      <td>1017.6</td>\n",
              "    </tr>\n",
              "    <tr>\n",
              "      <th>3</th>\n",
              "      <td>2023-11-23</td>\n",
              "      <td>49.6</td>\n",
              "      <td>42.4</td>\n",
              "      <td>0.000</td>\n",
              "      <td>14.8</td>\n",
              "      <td>1022.6</td>\n",
              "    </tr>\n",
              "    <tr>\n",
              "      <th>4</th>\n",
              "      <td>2023-11-24</td>\n",
              "      <td>51.2</td>\n",
              "      <td>56.1</td>\n",
              "      <td>0.000</td>\n",
              "      <td>20.9</td>\n",
              "      <td>1014.3</td>\n",
              "    </tr>\n",
              "    <tr>\n",
              "      <th>5</th>\n",
              "      <td>2023-11-25</td>\n",
              "      <td>48.1</td>\n",
              "      <td>40.1</td>\n",
              "      <td>0.000</td>\n",
              "      <td>20.0</td>\n",
              "      <td>1016.0</td>\n",
              "    </tr>\n",
              "    <tr>\n",
              "      <th>6</th>\n",
              "      <td>2023-11-26</td>\n",
              "      <td>43.8</td>\n",
              "      <td>43.8</td>\n",
              "      <td>0.000</td>\n",
              "      <td>13.3</td>\n",
              "      <td>1017.5</td>\n",
              "    </tr>\n",
              "    <tr>\n",
              "      <th>7</th>\n",
              "      <td>2023-11-27</td>\n",
              "      <td>42.2</td>\n",
              "      <td>66.0</td>\n",
              "      <td>0.001</td>\n",
              "      <td>7.0</td>\n",
              "      <td>1011.7</td>\n",
              "    </tr>\n",
              "    <tr>\n",
              "      <th>8</th>\n",
              "      <td>2023-11-28</td>\n",
              "      <td>50.6</td>\n",
              "      <td>57.0</td>\n",
              "      <td>0.000</td>\n",
              "      <td>18.7</td>\n",
              "      <td>1006.4</td>\n",
              "    </tr>\n",
              "    <tr>\n",
              "      <th>9</th>\n",
              "      <td>2023-11-29</td>\n",
              "      <td>42.9</td>\n",
              "      <td>62.7</td>\n",
              "      <td>0.000</td>\n",
              "      <td>9.8</td>\n",
              "      <td>1008.5</td>\n",
              "    </tr>\n",
              "    <tr>\n",
              "      <th>10</th>\n",
              "      <td>2023-11-30</td>\n",
              "      <td>48.9</td>\n",
              "      <td>87.5</td>\n",
              "      <td>0.000</td>\n",
              "      <td>12.9</td>\n",
              "      <td>1001.1</td>\n",
              "    </tr>\n",
              "  </tbody>\n",
              "</table>\n",
              "</div>"
            ],
            "text/plain": [
              "      datetime  temp  humidity  precip  windspeed  pressure\n",
              "0   2023-11-20  59.3      66.2   0.000       18.5    1017.7\n",
              "1   2023-11-21  57.3      49.8   0.000       20.3    1013.5\n",
              "2   2023-11-22  54.5      42.4   0.000       25.5    1017.6\n",
              "3   2023-11-23  49.6      42.4   0.000       14.8    1022.6\n",
              "4   2023-11-24  51.2      56.1   0.000       20.9    1014.3\n",
              "5   2023-11-25  48.1      40.1   0.000       20.0    1016.0\n",
              "6   2023-11-26  43.8      43.8   0.000       13.3    1017.5\n",
              "7   2023-11-27  42.2      66.0   0.001        7.0    1011.7\n",
              "8   2023-11-28  50.6      57.0   0.000       18.7    1006.4\n",
              "9   2023-11-29  42.9      62.7   0.000        9.8    1008.5\n",
              "10  2023-11-30  48.9      87.5   0.000       12.9    1001.1"
            ]
          },
          "execution_count": 761,
          "metadata": {},
          "output_type": "execute_result"
        }
      ],
      "source": [
        "# Configuration Visual Crossing\n",
        "load_dotenv() # charge les clés de .env dans les variables d'environnement\n",
        "VC_API_KEY = os.getenv(\"VISUAL_CROSSING_API\")\n",
        "VC_BASE_URL = \"https://weather.visualcrossing.com/VisualCrossingWebServices/rest/services/timeline\"\n",
        "\n",
        "def get_historical_weather(city, start_date, end_date, api_key):\n",
        "    \"\"\"\n",
        "    Récupère les données météo historiques\n",
        "\n",
        "    Défis à résoudre :\n",
        "    1. Construire l'URL avec les dates\n",
        "    2. Gérer la pagination si nécessaire\n",
        "    3. Extraire les données pertinentes du JSON complexe\n",
        "    4. Convertir en DataFrame pandas\n",
        "    \"\"\"\n",
        "\n",
        "    url = f\"{VC_BASE_URL}/{city}/{start_date}/{end_date}\"\n",
        "\n",
        "    params = {\n",
        "        'key': api_key,\n",
        "        'include': 'days',\n",
        "        'elements': 'datetime,temp,humidity,precip,windspeed,pressure'\n",
        "    }\n",
        "\n",
        "    # Votre implémentation ici\n",
        "    # Pensez à la gestion d'erreurs !\n",
        "    try:\n",
        "        response = r.get(url, params=params)\n",
        "        response.raise_for_status() # Vérifie si status code est 200, sinon lève une exception\n",
        "\n",
        "        data = response.json()\n",
        "        return data\n",
        "    except r.HTTPError as http_err:\n",
        "        print(f\"Http Error: {http_err}\")\n",
        "    except r.exceptions.ConnectionError as cn_error:\n",
        "        print(f\"Error: {cn_error}\")\n",
        "    return None \n",
        "\n",
        "data = get_historical_weather(\"Montpellier\", \"2023-11-20\", \"2023-11-30\", VC_API_KEY)\n",
        "\n",
        "# if data and 'd' in data:\n",
        "df_data = pd.DataFrame(data['days'])\n",
        "\n",
        "df_data"
      ]
    },
    {
      "cell_type": "markdown",
      "metadata": {
        "id": "WiSgjF2V3JOv"
      },
      "source": [
        "### 🎯 Mission pratique\n",
        "Récupérez les données des 30 derniers jours pour toutes vos villes et créez un DataFrame consolidé.\n",
        "\n",
        "**Structure attendue :**\n",
        "```\n",
        "| date       | ville     | temperature | humidite | precipitation | vent |\n",
        "|------------|-----------|-------------|----------|---------------|------|\n",
        "| 2024-01-01 | Paris     | 12.5        | 75       | 2.3          | 15   |\n",
        "```\n",
        "\n",
        "---\n"
      ]
    },
    {
      "cell_type": "code",
      "execution_count": 762,
      "metadata": {
        "id": "iR8RHaqM0suN"
      },
      "outputs": [],
      "source": [
        "## Partie 3 : API supplémentaire - Qualité de l'air\n",
        "\n",
        "### 🌬️ API OpenWeatherMap Air Pollution\n",
        "def get_air_quality(lat, lon, api_key):\n",
        "    \"\"\"\n",
        "    Récupère les données de qualité de l'air\n",
        "\n",
        "    URL : http://api.openweathermap.org/data/2.5/air_pollution\n",
        "\n",
        "    Étapes :\n",
        "    1. Utiliser les coordonnées lat/lon des villes\n",
        "    2. Récupérer l'indice AQI et les composants (PM2.5, PM10, O3, etc.)\n",
        "    3. Joindre ces données avec vos données météo\n",
        "    \"\"\"\n",
        "    pass"
      ]
    },
    {
      "cell_type": "code",
      "execution_count": 763,
      "metadata": {
        "id": "V0DOb0363VJU"
      },
      "outputs": [],
      "source": [
        "### 🗺️ Obtenir les coordonnées\n",
        "def get_city_coordinates(city, api_key):\n",
        "    \"\"\"\n",
        "    Utilise l'API Geocoding d'OpenWeatherMap\n",
        "    URL : http://api.openweathermap.org/geo/1.0/direct\n",
        "\n",
        "    Récupérez lat/lon pour chaque ville\n",
        "    \"\"\"\n",
        "    pass"
      ]
    },
    {
      "cell_type": "markdown",
      "metadata": {
        "id": "v02lzUOv3kp6"
      },
      "source": [
        "\n",
        "## Partie 4 : Analyse et visualisation\n",
        "\n",
        "### 📈 Analyses à réaliser\n",
        "\n",
        "1. **Comparaison inter-villes**\n",
        "   - Températures moyennes par ville\n",
        "   - Variabilité climatique (écart-type)\n",
        "   - Corrélations température/humidité\n",
        "\n",
        "2. **Tendances temporelles**\n",
        "   - Évolution sur 30 jours\n",
        "   - Identification des patterns\n",
        "\n",
        "3. **Qualité de l'air vs météo**\n",
        "   - Impact de la pluie sur la pollution\n",
        "   - Corrélations vent/qualité de l'air"
      ]
    },
    {
      "cell_type": "code",
      "execution_count": 764,
      "metadata": {
        "colab": {
          "base_uri": "https://localhost:8080/",
          "height": 51
        },
        "id": "IQb6JSIp3VSD",
        "outputId": "542a1e6a-381e-40c4-a65a-c21522e3b42d"
      },
      "outputs": [
        {
          "data": {
            "text/plain": [
              "<Figure size 1500x800 with 0 Axes>"
            ]
          },
          "execution_count": 764,
          "metadata": {},
          "output_type": "execute_result"
        },
        {
          "data": {
            "text/plain": [
              "<Figure size 1500x800 with 0 Axes>"
            ]
          },
          "metadata": {},
          "output_type": "display_data"
        }
      ],
      "source": [
        "### 💡 Visualisations guidées\n",
        "\n",
        "# 1. Heatmap des températures par ville et jour\n",
        "plt.figure(figsize=(15, 8))\n",
        "\n",
        "# Créez un pivot table : villes en colonnes, dates en lignes\n",
        "# Utilisez seaborn.heatmap()\n",
        "\n",
        "# 2. Boxplot comparatif des précipitations\n",
        "# Utilisez seaborn.boxplot()\n",
        "\n",
        "# 3. Scatter plot qualité air vs température\n",
        "# Ajoutez une regression line avec seaborn.regplot()\n",
        "\n"
      ]
    },
    {
      "cell_type": "markdown",
      "metadata": {
        "id": "U3OFGeR437l0"
      },
      "source": [
        "## Partie 5 : API bonus - Données agricoles\n",
        "\n",
        "### �� API AgroMonitoring (gratuite)"
      ]
    },
    {
      "cell_type": "code",
      "execution_count": 765,
      "metadata": {
        "id": "9PZMkaLO3zAK"
      },
      "outputs": [],
      "source": [
        "# API satellite pour l'agriculture\n",
        "AGRO_API_KEY = \"VOTRE_CLE_AGROMONITORING\"\n",
        "\n",
        "def get_soil_data(polygon_coordinates, api_key):\n",
        "    \"\"\"\n",
        "    Récupère des données de sol via satellite\n",
        "    URL : http://api.agromonitoring.com/agro/1.0/\n",
        "\n",
        "    Données disponibles :\n",
        "    - Indices de végétation (NDVI)\n",
        "    - Humidité du sol\n",
        "    - Température de surface\n",
        "    \"\"\"\n",
        "    pass\n"
      ]
    },
    {
      "cell_type": "markdown",
      "metadata": {
        "id": "9U_DNqp24DD6"
      },
      "source": [
        "\n",
        "**Défi avancé :** Créez des recommandations de plantation basées sur :\n",
        "- Données météo des 30 derniers jours\n",
        "- Prévisions à 5 jours\n",
        "- Qualité de l'air\n",
        "- Indices de végétation satellite\n",
        "\n"
      ]
    },
    {
      "cell_type": "markdown",
      "metadata": {
        "id": "W15DybdE4Ksu"
      },
      "source": [
        "## 🏆 Livrables attendus\n",
        "\n",
        "### 📊 Dashboard météo\n",
        "Créez un tableau de bord contenant :\n",
        "1. **Aperçu temps réel** des 6 villes\n",
        "2. **Graphiques de tendances** sur 30 jours\n",
        "3. **Alertes qualité de l'air** (AQI > 100)\n",
        "4. **Recommandations agricoles** par ville"
      ]
    },
    {
      "cell_type": "code",
      "execution_count": 766,
      "metadata": {
        "id": "46lA8m084ULP"
      },
      "outputs": [],
      "source": [
        "### 📱 Format de présentation\n",
        "\n",
        "def generate_weather_report(city_data):\n",
        "    \"\"\"\n",
        "    Génère un rapport automatisé\n",
        "\n",
        "    Format :\n",
        "    - Résumé exécutif (3 lignes)\n",
        "    - Métriques clés (tableaux)\n",
        "    - Graphiques (4 visualisations)\n",
        "    - Recommandations (bullet points)\n",
        "    \"\"\"\n",
        "    pass"
      ]
    },
    {
      "cell_type": "markdown",
      "metadata": {
        "id": "eqxVMuuh4Qsq"
      },
      "source": [
        "---\n",
        "\n",
        "## 🎓 Critères d'évaluation\n",
        "\n",
        "- [ ] **APIs fonctionnelles** : Toutes les connexions API marchent\n",
        "- [ ] **Gestion d'erreurs** : Code robuste avec try/except\n",
        "- [ ] **Qualité des données** : Validation et nettoyage\n",
        "- [ ] **Visualisations** : Graphiques informatifs et esthétiques\n",
        "- [ ] **Insights business** : Recommandations basées sur les données\n",
        "\n",
        "### 🔗 Préparation au Notebook 2\n",
        "Le prochain notebook utilisera une vraie base de données PostgreSQL hébergée pour analyser des données de ventes e-commerce, en croisant avec vos données météo pour des analyses géolocalisées.\n",
        "\n",
        "### 📚 APIs alternatives (si quotas dépassés)\n",
        "- **WeatherAPI** : 1M appels/mois gratuits\n",
        "- **AccuWeather** : 50 appels/jour gratuits  \n",
        "- **Climatiq** : Données climat et carbone\n",
        "- **NASA APIs** : Données satellite gratuites"
      ]
    }
  ],
  "metadata": {
    "colab": {
      "provenance": []
    },
    "kernelspec": {
      "display_name": ".venv",
      "language": "python",
      "name": "python3"
    },
    "language_info": {
      "codemirror_mode": {
        "name": "ipython",
        "version": 3
      },
      "file_extension": ".py",
      "mimetype": "text/x-python",
      "name": "python",
      "nbconvert_exporter": "python",
      "pygments_lexer": "ipython3",
      "version": "3.12.3"
    }
  },
  "nbformat": 4,
  "nbformat_minor": 0
}
